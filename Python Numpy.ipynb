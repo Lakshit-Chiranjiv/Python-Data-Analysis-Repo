{
 "cells": [
  {
   "cell_type": "markdown",
   "id": "321fee0f",
   "metadata": {},
   "source": [
    "# Python Numpy"
   ]
  },
  {
   "cell_type": "markdown",
   "id": "b273dc92",
   "metadata": {},
   "source": [
    "### Zip function"
   ]
  },
  {
   "cell_type": "code",
   "execution_count": 1,
   "id": "bf6df620",
   "metadata": {},
   "outputs": [],
   "source": [
    "x = ['james','tony','bob']"
   ]
  },
  {
   "cell_type": "code",
   "execution_count": 2,
   "id": "19d2a496",
   "metadata": {},
   "outputs": [],
   "source": [
    "y = [34,41,36]"
   ]
  },
  {
   "cell_type": "code",
   "execution_count": 3,
   "id": "3a991389",
   "metadata": {},
   "outputs": [
    {
     "name": "stdout",
     "output_type": "stream",
     "text": [
      "james is 34 years old\n",
      "tony is 41 years old\n",
      "bob is 36 years old\n"
     ]
    }
   ],
   "source": [
    "for i,j in zip(x,y):\n",
    "    print(f\"{i} is {j} years old\")"
   ]
  },
  {
   "cell_type": "markdown",
   "id": "9611d162",
   "metadata": {},
   "source": [
    "### Numpy arrays"
   ]
  },
  {
   "cell_type": "code",
   "execution_count": 4,
   "id": "1362959b",
   "metadata": {},
   "outputs": [],
   "source": [
    "import numpy as np"
   ]
  },
  {
   "cell_type": "code",
   "execution_count": 5,
   "id": "d5cacd5d",
   "metadata": {},
   "outputs": [],
   "source": [
    "arr = np.array([5,2,6,8])"
   ]
  },
  {
   "cell_type": "code",
   "execution_count": 6,
   "id": "3ac40aad",
   "metadata": {},
   "outputs": [
    {
     "data": {
      "text/plain": [
       "array([5, 2, 6, 8])"
      ]
     },
     "execution_count": 6,
     "metadata": {},
     "output_type": "execute_result"
    }
   ],
   "source": [
    "arr"
   ]
  },
  {
   "cell_type": "code",
   "execution_count": 7,
   "id": "e306261c",
   "metadata": {},
   "outputs": [
    {
     "data": {
      "text/plain": [
       "numpy.ndarray"
      ]
     },
     "execution_count": 7,
     "metadata": {},
     "output_type": "execute_result"
    }
   ],
   "source": [
    "type(arr)"
   ]
  },
  {
   "cell_type": "code",
   "execution_count": 8,
   "id": "97a2c08b",
   "metadata": {},
   "outputs": [
    {
     "data": {
      "text/plain": [
       "6"
      ]
     },
     "execution_count": 8,
     "metadata": {},
     "output_type": "execute_result"
    }
   ],
   "source": [
    "arr[2]"
   ]
  },
  {
   "cell_type": "code",
   "execution_count": 9,
   "id": "434713b1",
   "metadata": {},
   "outputs": [
    {
     "data": {
      "text/plain": [
       "4"
      ]
     },
     "execution_count": 9,
     "metadata": {},
     "output_type": "execute_result"
    }
   ],
   "source": [
    "len(arr)"
   ]
  },
  {
   "cell_type": "markdown",
   "id": "423d57b6",
   "metadata": {},
   "source": [
    "### Numpy operations"
   ]
  },
  {
   "cell_type": "code",
   "execution_count": 12,
   "id": "ed0ca1a3",
   "metadata": {},
   "outputs": [],
   "source": [
    "x = [4,7,2]\n",
    "y = [2,5,9]"
   ]
  },
  {
   "cell_type": "code",
   "execution_count": 13,
   "id": "315f5513",
   "metadata": {},
   "outputs": [
    {
     "ename": "TypeError",
     "evalue": "can't multiply sequence by non-int of type 'list'",
     "output_type": "error",
     "traceback": [
      "\u001b[1;31m---------------------------------------------------------------------------\u001b[0m",
      "\u001b[1;31mTypeError\u001b[0m                                 Traceback (most recent call last)",
      "Cell \u001b[1;32mIn [13], line 2\u001b[0m\n\u001b[0;32m      1\u001b[0m \u001b[38;5;66;03m# Can't perform element-wise operation with python lists\u001b[39;00m\n\u001b[1;32m----> 2\u001b[0m \u001b[43mx\u001b[49m\u001b[43m \u001b[49m\u001b[38;5;241;43m*\u001b[39;49m\u001b[43m \u001b[49m\u001b[43my\u001b[49m\n",
      "\u001b[1;31mTypeError\u001b[0m: can't multiply sequence by non-int of type 'list'"
     ]
    }
   ],
   "source": [
    "# Can't perform element-wise operation with python lists\n",
    "x * y"
   ]
  },
  {
   "cell_type": "code",
   "execution_count": 14,
   "id": "670e5b16",
   "metadata": {},
   "outputs": [],
   "source": [
    "p = np.array([4,7,2])\n",
    "q = np.array([2,5,9])"
   ]
  },
  {
   "cell_type": "code",
   "execution_count": 15,
   "id": "d57446f7",
   "metadata": {},
   "outputs": [
    {
     "data": {
      "text/plain": [
       "array([ 8, 35, 18])"
      ]
     },
     "execution_count": 15,
     "metadata": {},
     "output_type": "execute_result"
    }
   ],
   "source": [
    "p * q"
   ]
  },
  {
   "cell_type": "code",
   "execution_count": 17,
   "id": "c8ff95ec",
   "metadata": {},
   "outputs": [
    {
     "data": {
      "text/plain": [
       "61"
      ]
     },
     "execution_count": 17,
     "metadata": {},
     "output_type": "execute_result"
    }
   ],
   "source": [
    "# dot product\n",
    "np.dot(p,q)"
   ]
  },
  {
   "cell_type": "code",
   "execution_count": 18,
   "id": "c7ae45c7",
   "metadata": {},
   "outputs": [
    {
     "data": {
      "text/plain": [
       "13"
      ]
     },
     "execution_count": 18,
     "metadata": {},
     "output_type": "execute_result"
    }
   ],
   "source": [
    "p.sum()"
   ]
  },
  {
   "cell_type": "code",
   "execution_count": 19,
   "id": "4f493813",
   "metadata": {},
   "outputs": [
    {
     "ename": "AttributeError",
     "evalue": "'list' object has no attribute 'sum'",
     "output_type": "error",
     "traceback": [
      "\u001b[1;31m---------------------------------------------------------------------------\u001b[0m",
      "\u001b[1;31mAttributeError\u001b[0m                            Traceback (most recent call last)",
      "Cell \u001b[1;32mIn [19], line 1\u001b[0m\n\u001b[1;32m----> 1\u001b[0m \u001b[43mx\u001b[49m\u001b[38;5;241;43m.\u001b[39;49m\u001b[43msum\u001b[49m()\n",
      "\u001b[1;31mAttributeError\u001b[0m: 'list' object has no attribute 'sum'"
     ]
    }
   ],
   "source": [
    "x.sum()"
   ]
  },
  {
   "cell_type": "code",
   "execution_count": 22,
   "id": "9c842096",
   "metadata": {},
   "outputs": [
    {
     "name": "stdout",
     "output_type": "stream",
     "text": [
      "CPU times: total: 0 ns\n",
      "Wall time: 0 ns\n"
     ]
    },
    {
     "data": {
      "text/plain": [
       "61"
      ]
     },
     "execution_count": 22,
     "metadata": {},
     "output_type": "execute_result"
    }
   ],
   "source": [
    "%%time\n",
    "np.dot(p,q)\n",
    "# Measuring time of operations in jupyter notebook"
   ]
  },
  {
   "cell_type": "markdown",
   "id": "1d5e8b96",
   "metadata": {},
   "source": [
    "### Multidimensional numpy arrays"
   ]
  },
  {
   "cell_type": "code",
   "execution_count": 23,
   "id": "9156e84e",
   "metadata": {},
   "outputs": [],
   "source": [
    "x = np.array([4,6,8,1,3])"
   ]
  },
  {
   "cell_type": "code",
   "execution_count": 24,
   "id": "d544888e",
   "metadata": {},
   "outputs": [],
   "source": [
    "y = np.array([[6,3,2],\n",
    "              [7,3,5],\n",
    "              [9,6,1],\n",
    "              [8,8,7]])"
   ]
  },
  {
   "cell_type": "code",
   "execution_count": 25,
   "id": "a352930c",
   "metadata": {},
   "outputs": [
    {
     "data": {
      "text/plain": [
       "(5,)"
      ]
     },
     "execution_count": 25,
     "metadata": {},
     "output_type": "execute_result"
    }
   ],
   "source": [
    "x.shape"
   ]
  },
  {
   "cell_type": "code",
   "execution_count": 27,
   "id": "d679954a",
   "metadata": {},
   "outputs": [
    {
     "data": {
      "text/plain": [
       "(4, 3)"
      ]
     },
     "execution_count": 27,
     "metadata": {},
     "output_type": "execute_result"
    }
   ],
   "source": [
    "y.shape"
   ]
  },
  {
   "cell_type": "code",
   "execution_count": 28,
   "id": "757e9c41",
   "metadata": {},
   "outputs": [
    {
     "data": {
      "text/plain": [
       "dtype('int32')"
      ]
     },
     "execution_count": 28,
     "metadata": {},
     "output_type": "execute_result"
    }
   ],
   "source": [
    "y.dtype"
   ]
  },
  {
   "cell_type": "code",
   "execution_count": 30,
   "id": "9affed65",
   "metadata": {},
   "outputs": [],
   "source": [
    "z = np.array([[6,3,2],\n",
    "              [7,3,5],\n",
    "              [9,6,1]])"
   ]
  },
  {
   "cell_type": "code",
   "execution_count": 32,
   "id": "a456c45c",
   "metadata": {},
   "outputs": [
    {
     "data": {
      "text/plain": [
       "array([[ 75,  39,  29],\n",
       "       [108,  60,  34],\n",
       "       [105,  51,  49],\n",
       "       [167,  90,  63]])"
      ]
     },
     "execution_count": 32,
     "metadata": {},
     "output_type": "execute_result"
    }
   ],
   "source": [
    "#matrix multiplication\n",
    "np.matmul(y,z)"
   ]
  },
  {
   "cell_type": "code",
   "execution_count": null,
   "id": "74acf8cf",
   "metadata": {},
   "outputs": [],
   "source": []
  }
 ],
 "metadata": {
  "kernelspec": {
   "display_name": "Python 3 (ipykernel)",
   "language": "python",
   "name": "python3"
  },
  "language_info": {
   "codemirror_mode": {
    "name": "ipython",
    "version": 3
   },
   "file_extension": ".py",
   "mimetype": "text/x-python",
   "name": "python",
   "nbconvert_exporter": "python",
   "pygments_lexer": "ipython3",
   "version": "3.10.7"
  }
 },
 "nbformat": 4,
 "nbformat_minor": 5
}
