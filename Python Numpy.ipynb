{
 "cells": [
  {
   "cell_type": "markdown",
   "id": "b2c482a6",
   "metadata": {},
   "source": [
    "# Python Numpy"
   ]
  },
  {
   "cell_type": "markdown",
   "id": "b03ca1db",
   "metadata": {},
   "source": [
    "### Zip function"
   ]
  },
  {
   "cell_type": "code",
   "execution_count": 1,
   "id": "67e47fc0",
   "metadata": {},
   "outputs": [],
   "source": [
    "x = ['james','tony','bob']"
   ]
  },
  {
   "cell_type": "code",
   "execution_count": 2,
   "id": "e98856ae",
   "metadata": {},
   "outputs": [],
   "source": [
    "y = [34,41,36]"
   ]
  },
  {
   "cell_type": "code",
   "execution_count": 3,
   "id": "3a79e09f",
   "metadata": {},
   "outputs": [
    {
     "name": "stdout",
     "output_type": "stream",
     "text": [
      "james is 34 years old\n",
      "tony is 41 years old\n",
      "bob is 36 years old\n"
     ]
    }
   ],
   "source": [
    "for i,j in zip(x,y):\n",
    "    print(f\"{i} is {j} years old\")"
   ]
  },
  {
   "cell_type": "code",
   "execution_count": null,
   "id": "fce4b424",
   "metadata": {},
   "outputs": [],
   "source": []
  }
 ],
 "metadata": {
  "kernelspec": {
   "display_name": "Python 3 (ipykernel)",
   "language": "python",
   "name": "python3"
  },
  "language_info": {
   "codemirror_mode": {
    "name": "ipython",
    "version": 3
   },
   "file_extension": ".py",
   "mimetype": "text/x-python",
   "name": "python",
   "nbconvert_exporter": "python",
   "pygments_lexer": "ipython3",
   "version": "3.10.7"
  }
 },
 "nbformat": 4,
 "nbformat_minor": 5
}
