{
 "cells": [
  {
   "cell_type": "markdown",
   "id": "efa1416b",
   "metadata": {},
   "source": [
    "# Python Numpy"
   ]
  },
  {
   "cell_type": "markdown",
   "id": "21f74df4",
   "metadata": {},
   "source": [
    "### Zip function"
   ]
  },
  {
   "cell_type": "code",
   "execution_count": 1,
   "id": "225e1b3b",
   "metadata": {},
   "outputs": [],
   "source": [
    "x = ['james','tony','bob']"
   ]
  },
  {
   "cell_type": "code",
   "execution_count": 2,
   "id": "88408ca8",
   "metadata": {},
   "outputs": [],
   "source": [
    "y = [34,41,36]"
   ]
  },
  {
   "cell_type": "code",
   "execution_count": 3,
   "id": "d3f69f1b",
   "metadata": {},
   "outputs": [
    {
     "name": "stdout",
     "output_type": "stream",
     "text": [
      "james is 34 years old\n",
      "tony is 41 years old\n",
      "bob is 36 years old\n"
     ]
    }
   ],
   "source": [
    "for i,j in zip(x,y):\n",
    "    print(f\"{i} is {j} years old\")"
   ]
  },
  {
   "cell_type": "markdown",
   "id": "32eaa36d",
   "metadata": {},
   "source": [
    "### Numpy arrays"
   ]
  },
  {
   "cell_type": "code",
   "execution_count": 4,
   "id": "8e50bf88",
   "metadata": {},
   "outputs": [],
   "source": [
    "import numpy as np"
   ]
  },
  {
   "cell_type": "code",
   "execution_count": 5,
   "id": "a277a6f3",
   "metadata": {},
   "outputs": [],
   "source": [
    "arr = np.array([5,2,6,8])"
   ]
  },
  {
   "cell_type": "code",
   "execution_count": 6,
   "id": "010f6c41",
   "metadata": {},
   "outputs": [
    {
     "data": {
      "text/plain": [
       "array([5, 2, 6, 8])"
      ]
     },
     "execution_count": 6,
     "metadata": {},
     "output_type": "execute_result"
    }
   ],
   "source": [
    "arr"
   ]
  },
  {
   "cell_type": "code",
   "execution_count": 7,
   "id": "647cad98",
   "metadata": {},
   "outputs": [
    {
     "data": {
      "text/plain": [
       "numpy.ndarray"
      ]
     },
     "execution_count": 7,
     "metadata": {},
     "output_type": "execute_result"
    }
   ],
   "source": [
    "type(arr)"
   ]
  },
  {
   "cell_type": "code",
   "execution_count": 8,
   "id": "06265bf8",
   "metadata": {},
   "outputs": [
    {
     "data": {
      "text/plain": [
       "6"
      ]
     },
     "execution_count": 8,
     "metadata": {},
     "output_type": "execute_result"
    }
   ],
   "source": [
    "arr[2]"
   ]
  },
  {
   "cell_type": "code",
   "execution_count": 9,
   "id": "d6968c8b",
   "metadata": {},
   "outputs": [
    {
     "data": {
      "text/plain": [
       "4"
      ]
     },
     "execution_count": 9,
     "metadata": {},
     "output_type": "execute_result"
    }
   ],
   "source": [
    "len(arr)"
   ]
  },
  {
   "cell_type": "markdown",
   "id": "cb7cc36e",
   "metadata": {},
   "source": [
    "### Numpy operations"
   ]
  },
  {
   "cell_type": "code",
   "execution_count": 12,
   "id": "2928858b",
   "metadata": {},
   "outputs": [],
   "source": [
    "x = [4,7,2]\n",
    "y = [2,5,9]"
   ]
  },
  {
   "cell_type": "code",
   "execution_count": 13,
   "id": "dd7e4a33",
   "metadata": {},
   "outputs": [
    {
     "ename": "TypeError",
     "evalue": "can't multiply sequence by non-int of type 'list'",
     "output_type": "error",
     "traceback": [
      "\u001b[1;31m---------------------------------------------------------------------------\u001b[0m",
      "\u001b[1;31mTypeError\u001b[0m                                 Traceback (most recent call last)",
      "Cell \u001b[1;32mIn [13], line 2\u001b[0m\n\u001b[0;32m      1\u001b[0m \u001b[38;5;66;03m# Can't perform element-wise operation with python lists\u001b[39;00m\n\u001b[1;32m----> 2\u001b[0m \u001b[43mx\u001b[49m\u001b[43m \u001b[49m\u001b[38;5;241;43m*\u001b[39;49m\u001b[43m \u001b[49m\u001b[43my\u001b[49m\n",
      "\u001b[1;31mTypeError\u001b[0m: can't multiply sequence by non-int of type 'list'"
     ]
    }
   ],
   "source": [
    "# Can't perform element-wise operation with python lists\n",
    "x * y"
   ]
  },
  {
   "cell_type": "code",
   "execution_count": 14,
   "id": "4b28bbc6",
   "metadata": {},
   "outputs": [],
   "source": [
    "p = np.array([4,7,2])\n",
    "q = np.array([2,5,9])"
   ]
  },
  {
   "cell_type": "code",
   "execution_count": 15,
   "id": "2437e999",
   "metadata": {},
   "outputs": [
    {
     "data": {
      "text/plain": [
       "array([ 8, 35, 18])"
      ]
     },
     "execution_count": 15,
     "metadata": {},
     "output_type": "execute_result"
    }
   ],
   "source": [
    "p * q"
   ]
  },
  {
   "cell_type": "code",
   "execution_count": 17,
   "id": "b59456b4",
   "metadata": {},
   "outputs": [
    {
     "data": {
      "text/plain": [
       "61"
      ]
     },
     "execution_count": 17,
     "metadata": {},
     "output_type": "execute_result"
    }
   ],
   "source": [
    "# dot product\n",
    "np.dot(p,q)"
   ]
  },
  {
   "cell_type": "code",
   "execution_count": 18,
   "id": "4b442462",
   "metadata": {},
   "outputs": [
    {
     "data": {
      "text/plain": [
       "13"
      ]
     },
     "execution_count": 18,
     "metadata": {},
     "output_type": "execute_result"
    }
   ],
   "source": [
    "p.sum()"
   ]
  },
  {
   "cell_type": "code",
   "execution_count": 19,
   "id": "9a2f9cff",
   "metadata": {},
   "outputs": [
    {
     "ename": "AttributeError",
     "evalue": "'list' object has no attribute 'sum'",
     "output_type": "error",
     "traceback": [
      "\u001b[1;31m---------------------------------------------------------------------------\u001b[0m",
      "\u001b[1;31mAttributeError\u001b[0m                            Traceback (most recent call last)",
      "Cell \u001b[1;32mIn [19], line 1\u001b[0m\n\u001b[1;32m----> 1\u001b[0m \u001b[43mx\u001b[49m\u001b[38;5;241;43m.\u001b[39;49m\u001b[43msum\u001b[49m()\n",
      "\u001b[1;31mAttributeError\u001b[0m: 'list' object has no attribute 'sum'"
     ]
    }
   ],
   "source": [
    "x.sum()"
   ]
  },
  {
   "cell_type": "code",
   "execution_count": 22,
   "id": "6083da32",
   "metadata": {},
   "outputs": [
    {
     "name": "stdout",
     "output_type": "stream",
     "text": [
      "CPU times: total: 0 ns\n",
      "Wall time: 0 ns\n"
     ]
    },
    {
     "data": {
      "text/plain": [
       "61"
      ]
     },
     "execution_count": 22,
     "metadata": {},
     "output_type": "execute_result"
    }
   ],
   "source": [
    "%%time\n",
    "np.dot(p,q)\n",
    "# Measuring time of operations in jupyter notebook"
   ]
  },
  {
   "cell_type": "markdown",
   "id": "7c1be6b5",
   "metadata": {},
   "source": [
    "### Multidimensional numpy arrays"
   ]
  },
  {
   "cell_type": "code",
   "execution_count": 23,
   "id": "2ebda296",
   "metadata": {},
   "outputs": [],
   "source": [
    "x = np.array([4,6,8,1,3])"
   ]
  },
  {
   "cell_type": "code",
   "execution_count": 24,
   "id": "43f50571",
   "metadata": {},
   "outputs": [],
   "source": [
    "y = np.array([[6,3,2],\n",
    "              [7,3,5],\n",
    "              [9,6,1],\n",
    "              [8,8,7]])"
   ]
  },
  {
   "cell_type": "code",
   "execution_count": 25,
   "id": "9413b001",
   "metadata": {},
   "outputs": [
    {
     "data": {
      "text/plain": [
       "(5,)"
      ]
     },
     "execution_count": 25,
     "metadata": {},
     "output_type": "execute_result"
    }
   ],
   "source": [
    "x.shape"
   ]
  },
  {
   "cell_type": "code",
   "execution_count": 27,
   "id": "c795a0f0",
   "metadata": {},
   "outputs": [
    {
     "data": {
      "text/plain": [
       "(4, 3)"
      ]
     },
     "execution_count": 27,
     "metadata": {},
     "output_type": "execute_result"
    }
   ],
   "source": [
    "y.shape"
   ]
  },
  {
   "cell_type": "code",
   "execution_count": 28,
   "id": "bd307e04",
   "metadata": {},
   "outputs": [
    {
     "data": {
      "text/plain": [
       "dtype('int32')"
      ]
     },
     "execution_count": 28,
     "metadata": {},
     "output_type": "execute_result"
    }
   ],
   "source": [
    "y.dtype"
   ]
  },
  {
   "cell_type": "code",
   "execution_count": 30,
   "id": "09553383",
   "metadata": {},
   "outputs": [],
   "source": [
    "z = np.array([[6,3,2],\n",
    "              [7,3,5],\n",
    "              [9,6,1]])"
   ]
  },
  {
   "cell_type": "code",
   "execution_count": 32,
   "id": "84757ee7",
   "metadata": {},
   "outputs": [
    {
     "data": {
      "text/plain": [
       "array([[ 75,  39,  29],\n",
       "       [108,  60,  34],\n",
       "       [105,  51,  49],\n",
       "       [167,  90,  63]])"
      ]
     },
     "execution_count": 32,
     "metadata": {},
     "output_type": "execute_result"
    }
   ],
   "source": [
    "#matrix multiplication\n",
    "np.matmul(y,z)"
   ]
  },
  {
   "cell_type": "code",
   "execution_count": 33,
   "id": "e911f4e0",
   "metadata": {},
   "outputs": [
    {
     "data": {
      "text/plain": [
       "array([[ 75,  39,  29],\n",
       "       [108,  60,  34],\n",
       "       [105,  51,  49],\n",
       "       [167,  90,  63]])"
      ]
     },
     "execution_count": 33,
     "metadata": {},
     "output_type": "execute_result"
    }
   ],
   "source": [
    "#matrix multiplication shortcut\n",
    "y @ z"
   ]
  },
  {
   "cell_type": "markdown",
   "id": "59cebd1b",
   "metadata": {},
   "source": [
    "### Working with numpy on CSV files"
   ]
  },
  {
   "cell_type": "code",
   "execution_count": 37,
   "id": "f9e79ad5",
   "metadata": {},
   "outputs": [
    {
     "data": {
      "text/plain": [
       "('iplDeliveries.txt', <http.client.HTTPMessage at 0x2494b764820>)"
      ]
     },
     "execution_count": 37,
     "metadata": {},
     "output_type": "execute_result"
    }
   ],
   "source": [
    "import urllib.request\n",
    "\n",
    "urllib.request.urlretrieve('https://query.data.world/s/bpccygejx3enwbbjdd7gho335uwpmy','iplDeliveries.txt')"
   ]
  },
  {
   "cell_type": "code",
   "execution_count": 38,
   "id": "e5ce689b",
   "metadata": {},
   "outputs": [],
   "source": [
    "ipl_deliveries_data = np.genfromtxt('iplDeliveries.txt',delimiter=',',skip_header=1)"
   ]
  },
  {
   "cell_type": "code",
   "execution_count": 42,
   "id": "8af47f65",
   "metadata": {},
   "outputs": [
    {
     "data": {
      "text/plain": [
       "array([[  1.,   1.,  nan, ...,  nan,  nan,  nan],\n",
       "       [  1.,   1.,  nan, ...,  nan,  nan,  nan],\n",
       "       [  1.,   1.,  nan, ...,  nan,  nan,  nan],\n",
       "       ...,\n",
       "       [577.,   2.,  nan, ...,  nan,  nan,  nan],\n",
       "       [577.,   2.,  nan, ...,  nan,  nan,  nan],\n",
       "       [577.,   2.,  nan, ...,  nan,  nan,  nan]])"
      ]
     },
     "execution_count": 42,
     "metadata": {},
     "output_type": "execute_result"
    }
   ],
   "source": [
    "ipl_deliveries_data"
   ]
  },
  {
   "cell_type": "code",
   "execution_count": 43,
   "id": "3269550c",
   "metadata": {},
   "outputs": [
    {
     "data": {
      "text/plain": [
       "(136598, 21)"
      ]
     },
     "execution_count": 43,
     "metadata": {},
     "output_type": "execute_result"
    }
   ],
   "source": [
    "ipl_deliveries_data.shape"
   ]
  }
 ],
 "metadata": {
  "kernelspec": {
   "display_name": "Python 3 (ipykernel)",
   "language": "python",
   "name": "python3"
  },
  "language_info": {
   "codemirror_mode": {
    "name": "ipython",
    "version": 3
   },
   "file_extension": ".py",
   "mimetype": "text/x-python",
   "name": "python",
   "nbconvert_exporter": "python",
   "pygments_lexer": "ipython3",
   "version": "3.10.7"
  }
 },
 "nbformat": 4,
 "nbformat_minor": 5
}
