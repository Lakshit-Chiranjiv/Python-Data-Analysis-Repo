{
 "cells": [
  {
   "cell_type": "markdown",
   "id": "ae01edea",
   "metadata": {},
   "source": [
    "# Working with OS & Filesystem"
   ]
  },
  {
   "cell_type": "markdown",
   "id": "1ead6bff",
   "metadata": {},
   "source": [
    "### OS Module"
   ]
  },
  {
   "cell_type": "code",
   "execution_count": 1,
   "id": "566a52eb",
   "metadata": {},
   "outputs": [],
   "source": [
    "import os"
   ]
  },
  {
   "cell_type": "code",
   "execution_count": 3,
   "id": "950c3e5a",
   "metadata": {},
   "outputs": [
    {
     "data": {
      "text/plain": [
       "'C:\\\\Users\\\\KIIT\\\\Desktop\\\\ALL CODE ND STUFFS\\\\PROJECTS-REPOS\\\\Python Folder\\\\Data Analysis Folder\\\\Projects\\\\Python-Data-Analysis-Repo'"
      ]
     },
     "execution_count": 3,
     "metadata": {},
     "output_type": "execute_result"
    }
   ],
   "source": [
    "#current working directory\n",
    "os.getcwd()"
   ]
  },
  {
   "cell_type": "code",
   "execution_count": 6,
   "id": "89686bff",
   "metadata": {},
   "outputs": [
    {
     "data": {
      "text/plain": [
       "['.git',\n",
       " '.gitignore',\n",
       " '.ipynb_checkpoints',\n",
       " 'iplDeliveries.txt',\n",
       " 'LICENSE',\n",
       " 'Python - working with OS & Filesystem.ipynb',\n",
       " 'Python Basics.ipynb',\n",
       " 'Python Control Flow & Conditionals & Exception Handling.ipynb',\n",
       " 'Python Data Types & Functions.ipynb',\n",
       " 'Python Lists, Tuples & Dictionaries.ipynb',\n",
       " 'Python Numpy.ipynb',\n",
       " 'Python Strings.ipynb',\n",
       " 'README.md']"
      ]
     },
     "execution_count": 6,
     "metadata": {},
     "output_type": "execute_result"
    }
   ],
   "source": [
    "os.listdir('.') #relative"
   ]
  },
  {
   "cell_type": "code",
   "execution_count": 16,
   "id": "094aa29c",
   "metadata": {},
   "outputs": [
    {
     "data": {
      "text/plain": [
       "['Malgudi Days by Narayan, R K (z-lib.org).pdf',\n",
       " 'The Book Thief by Markus Zusak (z-lib.org).pdf']"
      ]
     },
     "execution_count": 16,
     "metadata": {},
     "output_type": "execute_result"
    }
   ],
   "source": [
    "os.listdir('/Users/KIIT/Desktop/ALL CODE ND STUFFS/books') #absolute"
   ]
  },
  {
   "cell_type": "code",
   "execution_count": 17,
   "id": "eaaeec09",
   "metadata": {},
   "outputs": [],
   "source": [
    "#making directories\n",
    "os.makedirs('./testdata',exist_ok=True)"
   ]
  },
  {
   "cell_type": "code",
   "execution_count": 18,
   "id": "a860e865",
   "metadata": {},
   "outputs": [
    {
     "data": {
      "text/plain": [
       "['.git',\n",
       " '.gitignore',\n",
       " '.ipynb_checkpoints',\n",
       " 'iplDeliveries.txt',\n",
       " 'LICENSE',\n",
       " 'Python - working with OS & Filesystem.ipynb',\n",
       " 'Python Basics.ipynb',\n",
       " 'Python Control Flow & Conditionals & Exception Handling.ipynb',\n",
       " 'Python Data Types & Functions.ipynb',\n",
       " 'Python Lists, Tuples & Dictionaries.ipynb',\n",
       " 'Python Numpy.ipynb',\n",
       " 'Python Strings.ipynb',\n",
       " 'README.md',\n",
       " 'testdata']"
      ]
     },
     "execution_count": 18,
     "metadata": {},
     "output_type": "execute_result"
    }
   ],
   "source": [
    "os.listdir()"
   ]
  },
  {
   "cell_type": "code",
   "execution_count": 20,
   "id": "82907ffb",
   "metadata": {},
   "outputs": [
    {
     "data": {
      "text/plain": [
       "True"
      ]
     },
     "execution_count": 20,
     "metadata": {},
     "output_type": "execute_result"
    }
   ],
   "source": [
    "'testdata' in os.listdir()"
   ]
  },
  {
   "cell_type": "code",
   "execution_count": 25,
   "id": "07f09f65",
   "metadata": {},
   "outputs": [],
   "source": [
    "bank_url1 = 'https://query.data.world/s/h2gju5rbeplj2qkz5yntozcgyrro2i'"
   ]
  },
  {
   "cell_type": "code",
   "execution_count": 22,
   "id": "5a4c7c89",
   "metadata": {},
   "outputs": [],
   "source": [
    "import urllib.request"
   ]
  },
  {
   "cell_type": "code",
   "execution_count": 26,
   "id": "b72478d7",
   "metadata": {},
   "outputs": [
    {
     "data": {
      "text/plain": [
       "('./testdata/bank1.txt', <http.client.HTTPMessage at 0x2bc3b0243d0>)"
      ]
     },
     "execution_count": 26,
     "metadata": {},
     "output_type": "execute_result"
    }
   ],
   "source": [
    "urllib.request.urlretrieve(bank_url1,'./testdata/bank1.txt')"
   ]
  }
 ],
 "metadata": {
  "kernelspec": {
   "display_name": "Python 3 (ipykernel)",
   "language": "python",
   "name": "python3"
  },
  "language_info": {
   "codemirror_mode": {
    "name": "ipython",
    "version": 3
   },
   "file_extension": ".py",
   "mimetype": "text/x-python",
   "name": "python",
   "nbconvert_exporter": "python",
   "pygments_lexer": "ipython3",
   "version": "3.10.7"
  }
 },
 "nbformat": 4,
 "nbformat_minor": 5
}
